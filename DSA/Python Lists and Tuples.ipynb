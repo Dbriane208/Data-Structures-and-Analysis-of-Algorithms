{
 "cells": [
  {
   "cell_type": "markdown",
   "id": "933f9e20",
   "metadata": {},
   "source": [
    "# Python Lists and Tuples\n",
    "\n",
    "- Lists are defined using square brackets [ ].Elements stored in a list are separated through a comma. Unlike in arrays, Lits can contain elements of sifferents data type.\n",
    "- Tuples are defined using parenthesis (). Elements stored in a tuple are immutable. They cannot be changed and are separated by a comma. If we want to delete an element we only have to delete the entire tuple using del statement."
   ]
  },
  {
   "cell_type": "code",
   "execution_count": 4,
   "id": "e94405b6",
   "metadata": {},
   "outputs": [
    {
     "name": "stdout",
     "output_type": "stream",
     "text": [
      "['Mazda', 'BMW', 'Audi', 'Forester', 'Isuzu']\n",
      "[2020, 2021, 2023, 2019, 2018]\n",
      "['Mazda', 'BMW', 'Audi', 'Forester', 'Isuzu', 2020, 2021, 2023, 2019, 2018]\n"
     ]
    }
   ],
   "source": [
    "#Accessing elements in a list\n",
    "\n",
    "list_cars = ['Mazda','BMW','Audi','Forester','Isuzu']\n",
    "list_model_year = [2020,2021,2023,2019,2018]\n",
    "print(list_cars)\n",
    "print(list_model_year)\n",
    "\n",
    "# Concatenation of list_cars and list_model_year in a single list\n",
    "\n",
    "Car_model = list_cars + list_model_year\n",
    "print(Car_model)"
   ]
  },
  {
   "cell_type": "code",
   "execution_count": 6,
   "id": "cca43900",
   "metadata": {},
   "outputs": [
    {
     "name": "stdout",
     "output_type": "stream",
     "text": [
      "('Mazda', 'BMW', 'Audi', 'Forester', 'Isuzu')\n",
      "(2020, 2021, 2023, 2019, 2018)\n",
      "('Mazda', 'BMW', 'Audi', 'Forester', 'Isuzu', 2020, 2021, 2023, 2019, 2018)\n"
     ]
    }
   ],
   "source": [
    "#Accessing elements in a tuple\n",
    "\n",
    "tuple_cars = ('Mazda','BMW','Audi','Forester','Isuzu')\n",
    "tuple_model_year = (2020,2021,2023,2019,2018)\n",
    "print(tuple_cars)\n",
    "print(tuple_model_year)\n",
    "\n",
    "# Concatenation of tuple_cars and tuple_model_year in a single list\n",
    "\n",
    "Car_model = tuple_cars + tuple_model_year\n",
    "print(Car_model)"
   ]
  },
  {
   "cell_type": "code",
   "execution_count": 9,
   "id": "889e1208",
   "metadata": {},
   "outputs": [
    {
     "name": "stdout",
     "output_type": "stream",
     "text": [
      "['Mazda', 'BMW', 'Audi', 'Forester', 2020, 2021, 2023, 2019, 2018]\n",
      "['Mazda', 'BMW', 'Audi', 'Forester', 2020, 2021, 2023, 2019]\n"
     ]
    }
   ],
   "source": [
    "#Deleting an element in list using the Car_model\n",
    "\n",
    "list_cars = ['Mazda','BMW','Audi','Forester','Isuzu']\n",
    "list_model_year = [2020,2021,2023,2019,2018]\n",
    "Car_model = list_cars + list_model_year\n",
    "\n",
    "#We want to delete Isuzu and year 2018 using .remove()\n",
    "\n",
    "Car_model.remove('Isuzu')\n",
    "print(Car_model)\n",
    "\n",
    "#We can also delete elements using the del statement\n",
    "\n",
    "del Car_model[8]\n",
    "print(Car_model)"
   ]
  },
  {
   "cell_type": "code",
   "execution_count": 10,
   "id": "38bd2ab7",
   "metadata": {},
   "outputs": [
    {
     "name": "stdout",
     "output_type": "stream",
     "text": [
      "['Mazda', 'BMW', 'Audi', 'Forester', 'Mercedes Benz', 2020, 2021, 2023, 2019, 2018]\n",
      "['Mazda', 'BMW', 'Audi', 'Forester', 'Mercedes Benz', 2020, 2021, 2023, 2022, 2019, 2018]\n"
     ]
    }
   ],
   "source": [
    "#Updating a list \n",
    "\n",
    "list_cars = ['Mazda','BMW','Audi','Forester','Isuzu']\n",
    "list_model_year = [2020,2021,2023,2019,2018]\n",
    "Car_model = list_cars + list_model_year\n",
    "\n",
    "#We want to update Benz from Isuzu into our list using index\n",
    "\n",
    "Car_model [4] = 'Mercedes Benz'\n",
    "print(Car_model)\n",
    "\n",
    "#We can also update elements using insertion method\n",
    "#We pass the index whether we want to add the element\n",
    "#Using .insert() method we only increase elements in a list not replacing them\n",
    "\n",
    "Car_model.insert(8, 2022)\n",
    "print(Car_model)"
   ]
  },
  {
   "cell_type": "code",
   "execution_count": 14,
   "id": "e341ebed",
   "metadata": {},
   "outputs": [
    {
     "name": "stdout",
     "output_type": "stream",
     "text": [
      "Mazda\n",
      "BMW\n",
      "Audi\n",
      "Forester\n",
      "Isuzu\n"
     ]
    },
    {
     "data": {
      "text/plain": [
       "False"
      ]
     },
     "execution_count": 14,
     "metadata": {},
     "output_type": "execute_result"
    }
   ],
   "source": [
    "#Using the basic operations of membership and iteration in lists\n",
    "\n",
    "#Iteration through a list\n",
    "\n",
    "list_cars = ['Mazda','BMW','Audi','Forester','Isuzu']\n",
    "for car in list_cars:\n",
    "    print(car)\n",
    "    \n",
    "#Membership in a list\n",
    "#output true if it exists\n",
    "'Forester' in list_cars \n",
    "\n",
    "#print false if it doesn't exist\n",
    "'Nissan' in list_cars "
   ]
  },
  {
   "cell_type": "code",
   "execution_count": 19,
   "id": "8d55407b",
   "metadata": {},
   "outputs": [
    {
     "name": "stdout",
     "output_type": "stream",
     "text": [
      "2020\n",
      "2021\n",
      "2023\n",
      "2019\n",
      "2018\n"
     ]
    },
    {
     "data": {
      "text/plain": [
       "True"
      ]
     },
     "execution_count": 19,
     "metadata": {},
     "output_type": "execute_result"
    }
   ],
   "source": [
    "#Using the basic operations of membership and iteration in tuples\n",
    "\n",
    "#Iteration through a list\n",
    "\n",
    "list_model_year = [2020,2021,2023,2019,2018]\n",
    "for model in list_model_year:\n",
    "    print(model)\n",
    "    \n",
    "#output false if it exists\n",
    "\n",
    "2024 in list_model_year \n",
    "\n",
    "#print true if it doesn't exist\n",
    "\n",
    "2021 in list_model_year\n"
   ]
  },
  {
   "cell_type": "code",
   "execution_count": null,
   "id": "c1a797ca",
   "metadata": {},
   "outputs": [],
   "source": []
  }
 ],
 "metadata": {
  "kernelspec": {
   "display_name": "Python 3 (ipykernel)",
   "language": "python",
   "name": "python3"
  },
  "language_info": {
   "codemirror_mode": {
    "name": "ipython",
    "version": 3
   },
   "file_extension": ".py",
   "mimetype": "text/x-python",
   "name": "python",
   "nbconvert_exporter": "python",
   "pygments_lexer": "ipython3",
   "version": "3.10.9"
  }
 },
 "nbformat": 4,
 "nbformat_minor": 5
}
