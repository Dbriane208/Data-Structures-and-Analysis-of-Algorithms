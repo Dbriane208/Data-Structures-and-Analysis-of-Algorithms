{
 "cells": [
  {
   "cell_type": "markdown",
   "id": "af285b58",
   "metadata": {},
   "source": [
    "## Python - Arrays\n",
    "\n",
    "We can carry basic operations in array such as:\n",
    "- Traverse - we can print all the elements in a given array\n",
    "- Insert - we can add elements into the array\n",
    "- Update - we can replace an element at a given index with another element\n",
    "- Search - we can look whether an element exist in a given array\n",
    "- Delete - we can remove certain elememts from the array\n",
    "\n",
    "The basic syntax for working with python array: \n",
    "- First import the module\n",
    "- Second create a variable to store your elements and specify the typecode\n",
    "\n",
    "arrayName = array(typecode,[array elements])"
   ]
  },
  {
   "cell_type": "code",
   "execution_count": 4,
   "id": "b5e6aa57",
   "metadata": {},
   "outputs": [],
   "source": [
    "#To work with array we have to import its module\n",
    "\n",
    "from array import *"
   ]
  },
  {
   "cell_type": "code",
   "execution_count": 5,
   "id": "14a41aec",
   "metadata": {},
   "outputs": [
    {
     "name": "stdout",
     "output_type": "stream",
     "text": [
      "10\n",
      "20\n",
      "30\n",
      "40\n",
      "50\n"
     ]
    }
   ],
   "source": [
    "#we are creating an array to traverse the elements\n",
    "\n",
    "array1 = array('i', [10,20,30,40,50])\n",
    "\n",
    "for x in array1:\n",
    "   print(x)"
   ]
  },
  {
   "cell_type": "markdown",
   "id": "57e51cb2",
   "metadata": {},
   "source": [
    "## \n",
    "### The below code will give an error. We cannot use array keyword to reference strings"
   ]
  },
  {
   "cell_type": "code",
   "execution_count": 6,
   "id": "794c36f3",
   "metadata": {},
   "outputs": [
    {
     "ename": "TypeError",
     "evalue": "array() takes at most 2 arguments (5 given)",
     "output_type": "error",
     "traceback": [
      "\u001b[0;31m---------------------------------------------------------------------------\u001b[0m",
      "\u001b[0;31mTypeError\u001b[0m                                 Traceback (most recent call last)",
      "Cell \u001b[0;32mIn[6], line 3\u001b[0m\n\u001b[1;32m      1\u001b[0m \u001b[38;5;66;03m#Lets perform the basic operations of an array\u001b[39;00m\n\u001b[0;32m----> 3\u001b[0m fruits \u001b[38;5;241m=\u001b[39m \u001b[43marray\u001b[49m\u001b[43m(\u001b[49m\u001b[38;5;124;43m\"\u001b[39;49m\u001b[38;5;124;43mApple\u001b[39;49m\u001b[38;5;124;43m\"\u001b[39;49m\u001b[43m,\u001b[49m\u001b[38;5;124;43m\"\u001b[39;49m\u001b[38;5;124;43mBananas\u001b[39;49m\u001b[38;5;124;43m\"\u001b[39;49m\u001b[43m,\u001b[49m\u001b[38;5;124;43m\"\u001b[39;49m\u001b[38;5;124;43mKiwi\u001b[39;49m\u001b[38;5;124;43m\"\u001b[39;49m\u001b[43m,\u001b[49m\u001b[38;5;124;43m\"\u001b[39;49m\u001b[38;5;124;43mWatermelon\u001b[39;49m\u001b[38;5;124;43m\"\u001b[39;49m\u001b[43m,\u001b[49m\u001b[38;5;124;43m\"\u001b[39;49m\u001b[38;5;124;43mOvacado\u001b[39;49m\u001b[38;5;124;43m\"\u001b[39;49m\u001b[43m)\u001b[49m\n\u001b[1;32m      4\u001b[0m \u001b[38;5;28;01mfor\u001b[39;00m fruit \u001b[38;5;129;01min\u001b[39;00m fruits:\n\u001b[1;32m      5\u001b[0m     \u001b[38;5;28mprint\u001b[39m(fruit)\n",
      "\u001b[0;31mTypeError\u001b[0m: array() takes at most 2 arguments (5 given)"
     ]
    }
   ],
   "source": [
    "#Lets perform the basic operations of an array\n",
    "\n",
    "fruits = array(\"Apple\",\"Bananas\",\"Kiwi\",\"Watermelon\",\"Ovacado\")\n",
    "for fruit in fruits:\n",
    "    print(fruit)\n"
   ]
  },
  {
   "cell_type": "markdown",
   "id": "07ecff3b",
   "metadata": {},
   "source": [
    "### We can correct the code above by removing the  array method"
   ]
  },
  {
   "cell_type": "code",
   "execution_count": 10,
   "id": "56cfb23d",
   "metadata": {},
   "outputs": [
    {
     "name": "stdout",
     "output_type": "stream",
     "text": [
      "Apple\n",
      "Bananas\n",
      "Kiwi\n",
      "Watermelon\n",
      "Ovacado\n"
     ]
    }
   ],
   "source": [
    "fruits = [\"Apple\",\"Bananas\",\"Kiwi\",\"Watermelon\",\"Ovacado\"]\n",
    "for fruit in fruits:\n",
    "    print(fruit)"
   ]
  },
  {
   "cell_type": "markdown",
   "id": "79ae555f",
   "metadata": {},
   "source": [
    " - We can add an element \"Mango\" to the list using .insert() method\n",
    " - The insert method receives to parameters (index,element to be added)"
   ]
  },
  {
   "cell_type": "code",
   "execution_count": 11,
   "id": "0a987a73",
   "metadata": {},
   "outputs": [
    {
     "name": "stdout",
     "output_type": "stream",
     "text": [
      "Apple\n",
      "Mango\n",
      "Bananas\n",
      "Kiwi\n",
      "Watermelon\n",
      "Ovacado\n"
     ]
    }
   ],
   "source": [
    "fruits = [\"Apple\",\"Bananas\",\"Kiwi\",\"Watermelon\",\"Ovacado\"]\n",
    "fruits.insert(1,\"Mango\" )\n",
    "for fruit in fruits:\n",
    "    print(fruit)"
   ]
  },
  {
   "cell_type": "markdown",
   "id": "2e24275d",
   "metadata": {},
   "source": [
    "- We can also search across the array to check whether certain elements exists\n",
    "- We can use .index()\n",
    "- The output of the array is the index where the element is stored"
   ]
  },
  {
   "cell_type": "code",
   "execution_count": 12,
   "id": "bf9e6f5e",
   "metadata": {},
   "outputs": [
    {
     "name": "stdout",
     "output_type": "stream",
     "text": [
      "2\n"
     ]
    },
    {
     "ename": "ValueError",
     "evalue": "'grapes' is not in list",
     "output_type": "error",
     "traceback": [
      "\u001b[0;31m---------------------------------------------------------------------------\u001b[0m",
      "\u001b[0;31mValueError\u001b[0m                                Traceback (most recent call last)",
      "Cell \u001b[0;32mIn[12], line 7\u001b[0m\n\u001b[1;32m      5\u001b[0m \u001b[38;5;66;03m#Trying to access an element not in the list it pops an error\u001b[39;00m\n\u001b[1;32m      6\u001b[0m fruits \u001b[38;5;241m=\u001b[39m [\u001b[38;5;124m\"\u001b[39m\u001b[38;5;124mApple\u001b[39m\u001b[38;5;124m\"\u001b[39m,\u001b[38;5;124m\"\u001b[39m\u001b[38;5;124mBananas\u001b[39m\u001b[38;5;124m\"\u001b[39m,\u001b[38;5;124m\"\u001b[39m\u001b[38;5;124mKiwi\u001b[39m\u001b[38;5;124m\"\u001b[39m,\u001b[38;5;124m\"\u001b[39m\u001b[38;5;124mWatermelon\u001b[39m\u001b[38;5;124m\"\u001b[39m,\u001b[38;5;124m\"\u001b[39m\u001b[38;5;124mOvacado\u001b[39m\u001b[38;5;124m\"\u001b[39m]\n\u001b[0;32m----> 7\u001b[0m fruit_index \u001b[38;5;241m=\u001b[39m \u001b[43mfruits\u001b[49m\u001b[38;5;241;43m.\u001b[39;49m\u001b[43mindex\u001b[49m\u001b[43m(\u001b[49m\u001b[38;5;124;43m\"\u001b[39;49m\u001b[38;5;124;43mgrapes\u001b[39;49m\u001b[38;5;124;43m\"\u001b[39;49m\u001b[43m)\u001b[49m\n\u001b[1;32m      8\u001b[0m \u001b[38;5;28mprint\u001b[39m(fruit_index)\n",
      "\u001b[0;31mValueError\u001b[0m: 'grapes' is not in list"
     ]
    }
   ],
   "source": [
    "fruits = [\"Apple\",\"Bananas\",\"Kiwi\",\"Watermelon\",\"Ovacado\"]\n",
    "kiwi_index = fruits.index(\"Kiwi\")\n",
    "print(kiwi_index)\n",
    "\n",
    "#Trying to access an element not in the list it pops an error\n",
    "fruits = [\"Apple\",\"Bananas\",\"Kiwi\",\"Watermelon\",\"Ovacado\"]\n",
    "fruit_index = fruits.index(\"grapes\")\n",
    "print(fruit_index)"
   ]
  },
  {
   "cell_type": "markdown",
   "id": "1e66e092",
   "metadata": {},
   "source": [
    "- We can also update the elements in the array\n",
    "- We can replace elements at certain positions with others"
   ]
  },
  {
   "cell_type": "code",
   "execution_count": 13,
   "id": "bbe98069",
   "metadata": {},
   "outputs": [
    {
     "name": "stdout",
     "output_type": "stream",
     "text": [
      "Apple\n",
      "Bananas\n",
      "Kiwi\n",
      "Watermelon\n",
      "Mangoes\n"
     ]
    }
   ],
   "source": [
    "#Lets replace elememt at index four with Mangoes and print\n",
    "\n",
    "fruits = [\"Apple\",\"Bananas\",\"Kiwi\",\"Watermelon\",\"Ovacado\"]\n",
    "fruits[4] = \"Mangoes\"\n",
    "for fruit in fruits:\n",
    "    print(fruit)"
   ]
  },
  {
   "cell_type": "markdown",
   "id": "d3e6584a",
   "metadata": {},
   "source": [
    "- We can also delete certain elements in the array using .remove() method"
   ]
  },
  {
   "cell_type": "code",
   "execution_count": 14,
   "id": "a2c3ee3d",
   "metadata": {},
   "outputs": [
    {
     "name": "stdout",
     "output_type": "stream",
     "text": [
      "Apple\n",
      "Bananas\n",
      "Kiwi\n",
      "Ovacado\n"
     ]
    }
   ],
   "source": [
    "#Lets remove watermelon from the element  and print\n",
    "\n",
    "fruits = [\"Apple\",\"Bananas\",\"Kiwi\",\"Watermelon\",\"Ovacado\"]\n",
    "fruits.remove(\"Watermelon\")\n",
    "for fruit in fruits:\n",
    "    print(fruit)"
   ]
  },
  {
   "cell_type": "markdown",
   "id": "e7934861",
   "metadata": {},
   "source": [
    "## Working with integers\n",
    "\n",
    "- We will create an array and then perform the TIDSU operartions\n",
    "- we have several typecode used in arrays:\n",
    "\n",
    "       b - represents signed integer of size 1 byte\n",
    "       B - represents unsigned integer of size 1 byte\n",
    "       c - represents character of 1 byte\n",
    "       i - represents signed integer of size 2 bytes\n",
    "       l - represents unsigned integer of 2 bytes\n",
    "       f - represents floating point of size 4 bytes\n",
    "       d - represents floating point of size 8 bytes"
   ]
  },
  {
   "cell_type": "code",
   "execution_count": 15,
   "id": "fe60ad8f",
   "metadata": {},
   "outputs": [],
   "source": [
    "#Lets import the array module\n",
    "\n",
    "from array import *"
   ]
  },
  {
   "cell_type": "code",
   "execution_count": 17,
   "id": "fdf48f32",
   "metadata": {},
   "outputs": [
    {
     "name": "stdout",
     "output_type": "stream",
     "text": [
      "5000\n",
      "8500\n",
      "4000\n",
      "2500\n",
      "1000\n"
     ]
    }
   ],
   "source": [
    "#create an element array of one byte\n",
    "#we will use the typecode 'i' to allow us to use  only positive integer\n",
    "\n",
    "\n",
    "IncomeArray = array('i',[5000,8500,4000,2500,1000])\n",
    "\n",
    "#Lets traverse the array to print the elements\n",
    "\n",
    "for income in IncomeArray:\n",
    "    print(income)\n",
    "    "
   ]
  },
  {
   "cell_type": "code",
   "execution_count": 18,
   "id": "8aed00b7",
   "metadata": {},
   "outputs": [
    {
     "name": "stdout",
     "output_type": "stream",
     "text": [
      "5000\n",
      "8500\n",
      "4000\n",
      "2500\n",
      "1000\n",
      "10000\n"
     ]
    }
   ],
   "source": [
    "#Lets add an elemet to the array\n",
    "#The element is added at the fifth index\n",
    "\n",
    "IncomeArray.insert(5,10000)\n",
    "for income in IncomeArray:\n",
    "    print(income)"
   ]
  },
  {
   "cell_type": "code",
   "execution_count": 22,
   "id": "3ba06d92",
   "metadata": {},
   "outputs": [
    {
     "ename": "ValueError",
     "evalue": "array.index(x): x not in array",
     "output_type": "error",
     "traceback": [
      "\u001b[0;31m---------------------------------------------------------------------------\u001b[0m",
      "\u001b[0;31mValueError\u001b[0m                                Traceback (most recent call last)",
      "Cell \u001b[0;32mIn[22], line 3\u001b[0m\n\u001b[1;32m      1\u001b[0m \u001b[38;5;66;03m#Lets search an element to check whether it exists\u001b[39;00m\n\u001b[0;32m----> 3\u001b[0m index \u001b[38;5;241m=\u001b[39m \u001b[43mIncomeArray\u001b[49m\u001b[38;5;241;43m.\u001b[39;49m\u001b[43mindex\u001b[49m\u001b[43m(\u001b[49m\u001b[38;5;241;43m1500\u001b[39;49m\u001b[43m)\u001b[49m\n\u001b[1;32m      4\u001b[0m \u001b[38;5;28mprint\u001b[39m(index)\n",
      "\u001b[0;31mValueError\u001b[0m: array.index(x): x not in array"
     ]
    }
   ],
   "source": [
    "#Lets search an element to check whether it exists\n",
    "#It will pop an error saying that the referenced index is not in the array\n",
    "\n",
    "index = IncomeArray.index(1500)\n",
    "print(index)"
   ]
  },
  {
   "cell_type": "code",
   "execution_count": 23,
   "id": "ffd262bb",
   "metadata": {},
   "outputs": [
    {
     "name": "stdout",
     "output_type": "stream",
     "text": [
      "5000\n",
      "9000\n",
      "4000\n",
      "2500\n",
      "1000\n",
      "10000\n"
     ]
    }
   ],
   "source": [
    "# lets update an element at a certain position\n",
    "#We have updated the element in position 1 to 9000\n",
    "\n",
    "IncomeArray[1] = 9000\n",
    "for income in IncomeArray:\n",
    "    print(income)"
   ]
  },
  {
   "cell_type": "code",
   "execution_count": 24,
   "id": "018d2ac1",
   "metadata": {},
   "outputs": [
    {
     "name": "stdout",
     "output_type": "stream",
     "text": [
      "5000\n",
      "9000\n",
      "4000\n",
      "1000\n",
      "10000\n"
     ]
    }
   ],
   "source": [
    "# lets delete an element from the array \n",
    "# We want to remove the least elememt from the array and print\n",
    "\n",
    "IncomeArray.remove(2500)\n",
    "for income in IncomeArray:\n",
    "    print(income)"
   ]
  },
  {
   "cell_type": "code",
   "execution_count": null,
   "id": "11782284",
   "metadata": {},
   "outputs": [],
   "source": []
  }
 ],
 "metadata": {
  "kernelspec": {
   "display_name": "Python 3 (ipykernel)",
   "language": "python",
   "name": "python3"
  },
  "language_info": {
   "codemirror_mode": {
    "name": "ipython",
    "version": 3
   },
   "file_extension": ".py",
   "mimetype": "text/x-python",
   "name": "python",
   "nbconvert_exporter": "python",
   "pygments_lexer": "ipython3",
   "version": "3.10.9"
  }
 },
 "nbformat": 4,
 "nbformat_minor": 5
}
